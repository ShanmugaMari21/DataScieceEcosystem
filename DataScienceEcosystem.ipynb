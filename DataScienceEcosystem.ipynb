{
 "cells": [
  {
   "cell_type": "markdown",
   "id": "b61fba2e",
   "metadata": {},
   "source": [
    "# Data Science Tools and Ecosystem"
   ]
  },
  {
   "cell_type": "markdown",
   "id": "ec7a5b03",
   "metadata": {},
   "source": [
    "In this notebook, Data Science Tools and Ecosystem are summarized."
   ]
  },
  {
   "cell_type": "markdown",
   "id": "4de13a67",
   "metadata": {},
   "source": [
    "__Objectives:__\n",
    "- Popular languages that Data Scientists used\n",
    "- Commonly used libraries used by Data Scientist\n",
    "- Data Science Tools\n",
    "- Arithmetic Expressions\n",
    "- Converting minutes into hours\n",
    "    "
   ]
  },
  {
   "cell_type": "markdown",
   "id": "bc060dc1",
   "metadata": {},
   "source": [
    "## Author\n",
    "Shanmuga Mari B"
   ]
  },
  {
   "cell_type": "markdown",
   "id": "8247f5e3",
   "metadata": {},
   "source": [
    "# Some of the popular languages that Data Scientists use are:\n",
    "    Python\n",
    "    R\n",
    "    SQL\n",
    "    Java\n",
    "    Julia"
   ]
  },
  {
   "cell_type": "markdown",
   "id": "968d746d",
   "metadata": {},
   "source": [
    "# Some of the commonly used libraries used by Data Scientists include:\n",
    "    TensorFlow\n",
    "    NumPy\n",
    "    SciPy\n",
    "    Pandas\n",
    "    Matplotlib\n",
    "    Keras\n",
    "    SciKit-Learn\n",
    "    PyTorch."
   ]
  },
  {
   "cell_type": "markdown",
   "id": "0c5548f9",
   "metadata": {},
   "source": [
    "|Data Science Tools|\n",
    "|-----------------|\n",
    "|Tableau|\n",
    "|Apache Spark|\n",
    "|SAS|"
   ]
  },
  {
   "cell_type": "markdown",
   "id": "7ce2c46a",
   "metadata": {},
   "source": [
    "### Below are a few examples of evaluating arithmetic expressions in Python"
   ]
  },
  {
   "cell_type": "code",
   "execution_count": 5,
   "id": "67800574",
   "metadata": {},
   "outputs": [],
   "source": [
    "#This a simple arithmetic expression to mutiply then add integers"
   ]
  },
  {
   "cell_type": "code",
   "execution_count": 4,
   "id": "d646d6ad",
   "metadata": {},
   "outputs": [
    {
     "data": {
      "text/plain": [
       "17"
      ]
     },
     "execution_count": 4,
     "metadata": {},
     "output_type": "execute_result"
    }
   ],
   "source": [
    "(3*4)+5"
   ]
  },
  {
   "cell_type": "code",
   "execution_count": 8,
   "id": "e4551e8a",
   "metadata": {},
   "outputs": [
    {
     "name": "stdout",
     "output_type": "stream",
     "text": [
      "3\n"
     ]
    }
   ],
   "source": [
    "# This will convert 200 minutes to hours by diving by 60\n",
    "minutes = 200\n",
    "Hours = minutes // 60\n",
    "print(Hours)"
   ]
  },
  {
   "cell_type": "code",
   "execution_count": null,
   "id": "e8c96c12",
   "metadata": {},
   "outputs": [],
   "source": []
  }
 ],
 "metadata": {
  "kernelspec": {
   "display_name": "Python 3 (ipykernel)",
   "language": "python",
   "name": "python3"
  },
  "language_info": {
   "codemirror_mode": {
    "name": "ipython",
    "version": 3
   },
   "file_extension": ".py",
   "mimetype": "text/x-python",
   "name": "python",
   "nbconvert_exporter": "python",
   "pygments_lexer": "ipython3",
   "version": "3.9.13"
  }
 },
 "nbformat": 4,
 "nbformat_minor": 5
}
